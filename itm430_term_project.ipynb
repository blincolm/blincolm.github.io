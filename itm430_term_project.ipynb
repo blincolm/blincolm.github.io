{
 "cells": [
  {
   "cell_type": "markdown",
   "id": "bd790690-9ad9-49ec-8e8a-a427d34e9a50",
   "metadata": {
    "tags": []
   },
   "source": [
    "## ITM430 - Term Project\n",
    "___"
   ]
  },
  {
   "cell_type": "code",
   "execution_count": 1,
   "id": "7445a199-e3b0-4beb-8815-4e6db7c996e3",
   "metadata": {},
   "outputs": [],
   "source": [
    "import numpy as np\n",
    "import pandas as pd\n",
    "import math"
   ]
  },
  {
   "cell_type": "markdown",
   "id": "d9948a24-7698-42a0-a9a7-c94ce66c2c35",
   "metadata": {
    "tags": []
   },
   "source": [
    "### Defining Functions\n",
    "'Reducing Answers' remaps infrequent answers to null values below `reduce_level`.\n",
    "___"
   ]
  },
  {
   "cell_type": "code",
   "execution_count": 2,
   "id": "8ea55bd0-a113-47f1-9cf8-c253d3a1d73f",
   "metadata": {
    "tags": []
   },
   "outputs": [],
   "source": [
    "def reducing_answers(df, col, reduce_level=0.05):\n",
    "    \n",
    "    data = df[col].copy()\n",
    "    \n",
    "    infrequent_answers = data.value_counts(normalize=True, dropna=False) < reduce_level\n",
    "    \n",
    "    infrequent_mask = data.map(infrequent_answers)\n",
    "    data.loc[infrequent_mask] = pd.NA\n",
    "    \n",
    "    return data"
   ]
  },
  {
   "cell_type": "markdown",
   "id": "caca4b0e-34fa-44e1-b112-217e941668e1",
   "metadata": {
    "tags": []
   },
   "source": [
    "### Loading Data\n",
    "*Nonresident* dataset from BSU Admissions 2023\n",
    "___"
   ]
  },
  {
   "cell_type": "code",
   "execution_count": 78,
   "id": "872c6990-e7c3-4bb1-bfe1-7717821633d9",
   "metadata": {
    "tags": []
   },
   "outputs": [
    {
     "data": {
      "text/plain": [
       "Index(['Unique ID', 'Admit Term', 'Admit Type', 'Application Period',\n",
       "       'Application Month', 'Submitted Date', 'App Type', 'Application Fee',\n",
       "       'App Decision Date', 'Time from App to Decision',\n",
       "       'Opened Decision Email', 'Residency', 'Residency State', 'City',\n",
       "       'State', 'County', 'Recruitment Region', 'HS GPA', 'HS GPA Range',\n",
       "       'HS Accredited', 'Major', 'College', 'Department', 'Intent to Enroll',\n",
       "       'Intent to Enroll Submitted Month/Year',\n",
       "       'Intent to Enroll Submitted Date', 'Scholarship Awarded', 'Scholarship',\n",
       "       '# of Days from decision to scholarship award', 'Pell Grant',\n",
       "       'FAFSA on File flag', 'Orientation Registration Date',\n",
       "       'Orientation Attended', 'Honors Status', 'Housing', 'Housing.1',\n",
       "       'Housing Hall', 'Housing Submitted', 'First Generation',\n",
       "       'Parent Education Level', 'ID Rural/Urban', 'Race', 'Hispanic',\n",
       "       'Enrollment Date', 'Campus Tour', 'Attended Discover',\n",
       "       'Received Viewbook', 'Attended Virtual Event', 'Legal Sex',\n",
       "       'Concurrent Enrollment', 'Concurrent Enrollment Credits',\n",
       "       'Concurrent Enrollment GPA', 'Fall 2021 Attempted Credits',\n",
       "       'Fall 2021 Credits', 'Fall 2021 GPA', 'Retained from Fall to Spring?',\n",
       "       'Retained from 1st to 2nd year', 'Currently Enrolled',\n",
       "       'CUM for GPACredits Earned', 'Total BSU Degree Seeking GPA',\n",
       "       'Boise State GPA range', 'Currently Enrolled.1'],\n",
       "      dtype='object')"
      ]
     },
     "execution_count": 78,
     "metadata": {},
     "output_type": "execute_result"
    }
   ],
   "source": [
    "nonresident = pd.read_excel('nonresident version 2.xlsx')\n",
    "nonresident.columns"
   ]
  },
  {
   "cell_type": "markdown",
   "id": "f75a22da-a7fb-4fa5-916d-369904fdce29",
   "metadata": {
    "tags": []
   },
   "source": [
    "### Bulk removal of irrelevant, redundant variables\n",
    "___"
   ]
  },
  {
   "cell_type": "code",
   "execution_count": 4,
   "id": "763d3f54-40a2-4031-9513-7d62419209c5",
   "metadata": {},
   "outputs": [],
   "source": [
    "nonresident.drop(columns=['Unique ID', # Not generalizable\n",
    "                          'Admit Term', # Subset too small\n",
    "                          'Application Period', # Substitute 'Submitted Date' and 'App Decision Date'\n",
    "                          'Application Month', # Substitute as above\n",
    "                          'App Type', # Single value\n",
    "                          'Time from App to Decision', # Substitute 'Submitted Date' \n",
    "                          'Opened Decision Email', # Irrelevant, not actionable\n",
    "                          'Residency', # Single value\n",
    "                          'Residency State', # Substitute away_from_home\n",
    "                          'County', # Substitue 'away_from_home'\n",
    "                          'Recruitment Region', # Substitute 'away_from_home'\n",
    "                          'HS GPA Range', # Substitute 'HS GPA'\n",
    "                          'HS Accredited', # Subset too small\n",
    "                          'Major', # Too granular for categorical data\n",
    "                          'Department', # Too granular for categorical data\n",
    "                          'Intent to Enroll', # Irrelevant, not actionalbe\n",
    "                          'Intent to Enroll Submitted Month/Year', # Substitute 'Intent to Enroll Submitted Date' with a transformation\n",
    "                          'Scholarship', # Relevancy\n",
    "                          '# of Days from decision to scholarship award', # Relevancy\n",
    "                          'Orientation Registration Date', # Irrelevant, not actionable\n",
    "                          'Orientation Attended', # Too many for dummies, ?\n",
    "                          'Housing.1', # Subset too small\n",
    "                          'Housing Hall', # Too granular\n",
    "                          'Housing Submitted', # Irrelevant, not actionable\n",
    "                          'ID Rural/Urban', # Single value\n",
    "                          'Attended Discover', # Single value\n",
    "                          'Received Viewbook', # Single value\n",
    "                          'Concurrent Enrollment', # Substitute 'concurrent_gpa_x_cred'\n",
    "                          'Currently Enrolled', # Soft proxy for target variable\n",
    "                          'CUM for GPACredits Earned', # Irrelevant\n",
    "                          'Total BSU Degree Seeking GPA', # Substitute 'Fall 2021 GPA'\n",
    "                          'Boise State GPA range', # Substitute 'Fall 2021 GPA'\n",
    "                          'Currently Enrolled.1'], # Duplicate\n",
    "                 inplace=True)"
   ]
  },
  {
   "cell_type": "markdown",
   "id": "cf0c4c2c-2ce6-4beb-854d-7be6899a6dda",
   "metadata": {
    "tags": []
   },
   "source": [
    "### Date Variable Transformations\n",
    "`Submitted Date`, `App Decision Date`, `Intent to Enroll Submitted Date`, and `Enrollment Date` are transformed then dropped.\n",
    "___"
   ]
  },
  {
   "cell_type": "code",
   "execution_count": 5,
   "id": "cdcbdc6e-c32a-43b1-a0d9-75fe0674ba48",
   "metadata": {
    "tags": []
   },
   "outputs": [],
   "source": [
    "# Transforming '[Application] Submitted Date' and 'App[lication] Decision Date' to single value.\n",
    "# Additionally transforming 'Days to Intent to Enroll'\n",
    "nonresident['Submitted Date'] = pd.to_datetime(nonresident['Submitted Date'])\n",
    "nonresident['App Decision Date'] = pd.to_datetime(nonresident['App Decision Date'])\n",
    "nonresident['Intent to Enroll Submitted Date'] = pd.to_datetime(nonresident['Intent to Enroll Submitted Date'])\n",
    "nonresident['Enrollment Date'] = pd.to_datetime(nonresident['Enrollment Date'])\n",
    "\n",
    "# Days between application submission and acceptance\n",
    "nonresident['days_to_decision'] = nonresident['App Decision Date'] - nonresident['Submitted Date']\n",
    "nonresident['days_to_decision'] = nonresident['days_to_decision'].dt.days\n",
    "\n",
    "# Days between acceptance and intent\n",
    "nonresident['days_to_ite'] = nonresident['Intent to Enroll Submitted Date'] - nonresident['App Decision Date']\n",
    "nonresident['days_to_ite'] = nonresident['days_to_ite'].dt.days\n",
    "\n",
    "# Days between intent and enrollment\n",
    "nonresident['days_to_enroll'] = nonresident['Enrollment Date'] - nonresident['Intent to Enroll Submitted Date']\n",
    "nonresident['days_to_enroll'] = nonresident['days_to_enroll'].dt.days\n",
    "\n",
    "# Relative days 'early' (expressed as more negative) within application submission date\n",
    "nonresident['days_app_submitted_early'] = nonresident['Submitted Date'] - nonresident['Submitted Date'].max()\n",
    "nonresident['days_app_submitted_early'] = nonresident['days_app_submitted_early'].dt.days\n",
    "\n",
    "# Dropping now transformed columns\n",
    "nonresident.drop(columns=['Submitted Date', 'App Decision Date', 'Intent to Enroll Submitted Date', 'Enrollment Date'], inplace=True)\n",
    "\n",
    "# Removing negative values\n",
    "nonresident.loc[nonresident['days_to_ite'] < 0, 'days_to_ite'] = -1"
   ]
  },
  {
   "cell_type": "markdown",
   "id": "151f6a5d-eeec-47bd-bd6c-e92dd913faf9",
   "metadata": {
    "tags": []
   },
   "source": [
    "### Renaming Instances\n",
    "___"
   ]
  },
  {
   "cell_type": "code",
   "execution_count": 6,
   "id": "39a399c3-1f96-4ddd-9d48-5d18a3b89d59",
   "metadata": {},
   "outputs": [],
   "source": [
    "# Renaming values for easier reading when transformed to dummies\n",
    "nonresident['Admit Type'].replace({'New- HS in progress' : 'new', \n",
    "                                   'New- HS in progress with college credit' : 'new_college_credit', \n",
    "                                   'Returning- Was NEW never enroll' : 'returning'}, \n",
    "                                  inplace=True)"
   ]
  },
  {
   "cell_type": "code",
   "execution_count": 7,
   "id": "90b1ed6a-f22a-4412-bbbc-ac06162a488e",
   "metadata": {},
   "outputs": [],
   "source": [
    "nonresident['Application Fee'].fillna('Received', inplace=True)\n",
    "nonresident['Application Fee'].replace({'Waived' : 1, 'Received' : 0}, inplace=True)\n",
    "nonresident.rename(columns={'Application Fee' : 'Application Fee Waived'}, inplace=True)"
   ]
  },
  {
   "cell_type": "code",
   "execution_count": 8,
   "id": "8e85e1d9-788e-48eb-a175-39e91a604917",
   "metadata": {},
   "outputs": [],
   "source": [
    "nonresident['College'] = reducing_answers(nonresident, 'College', reduce_level=0.1)\n",
    "nonresident['College'].fillna('BSU', inplace=True)"
   ]
  },
  {
   "cell_type": "code",
   "execution_count": 9,
   "id": "98e421f8-7270-40f5-b521-4237976d5acf",
   "metadata": {},
   "outputs": [],
   "source": [
    "nonresident['Scholarship Awarded'].replace({'Yes' : 1, 'No' : 0}, inplace=True)"
   ]
  },
  {
   "cell_type": "code",
   "execution_count": 10,
   "id": "af402e5c-8a89-4b9d-9026-1910766beaea",
   "metadata": {},
   "outputs": [],
   "source": [
    "nonresident['Pell Grant'].replace({'Yes' : 1, 'No' : 0}, inplace=True)"
   ]
  },
  {
   "cell_type": "code",
   "execution_count": 11,
   "id": "15da60dc-dc69-4423-adf9-8f5becb61926",
   "metadata": {},
   "outputs": [],
   "source": [
    "nonresident['FAFSA on File flag'].replace({'Yes' : 1, 'No' : 0}, inplace=True)"
   ]
  },
  {
   "cell_type": "code",
   "execution_count": 12,
   "id": "d56e001f-f32f-4413-a8db-c100db0cb695",
   "metadata": {},
   "outputs": [],
   "source": [
    "nonresident['Honors Status'].fillna('zero', inplace=True)\n",
    "\n",
    "mask = nonresident['Honors Status'].str.contains('Honors')\n",
    "nonresident.loc[mask, 'Honors Status'] = 'one'\n",
    "nonresident['Honors Status'].replace({'one' : 1, 'zero' : 0}, inplace=True)\n",
    "\n",
    "nonresident.rename(columns={'Honors Status' : 'Honors Possible'}, inplace=True)"
   ]
  },
  {
   "cell_type": "code",
   "execution_count": 13,
   "id": "310cd796-072c-40d3-b54d-9dddbe9d2fcb",
   "metadata": {},
   "outputs": [],
   "source": [
    "nonresident['Housing'].replace({'On Campus' : 1, 'Off Campus' : 0}, inplace=True)\n",
    "nonresident.rename(columns={'Housing' : 'Housing On Campus'}, inplace=True)"
   ]
  },
  {
   "cell_type": "code",
   "execution_count": 14,
   "id": "df44dba4-d3bd-4496-a2a3-d1fc48680e8d",
   "metadata": {},
   "outputs": [],
   "source": [
    "nonresident['First Generation'].replace({'Yes' : 1, 'No' : 0}, inplace=True)"
   ]
  },
  {
   "cell_type": "code",
   "execution_count": 15,
   "id": "9e1a9a36-a4ab-44b0-acd2-7c275524c619",
   "metadata": {},
   "outputs": [
    {
     "data": {
      "text/plain": [
       "Bachelor Degree                               0.444514\n",
       "Master or Doctorate or Professional Degree    0.309091\n",
       "Some College but No Degree                    0.102821\n",
       "Associate Degree                              0.067712\n",
       "High School Diploma or Equivalent             0.061442\n",
       "Some School but No High School Diploma        0.010031\n",
       "Unknown                                       0.004389\n",
       "Name: Parent Education Level, dtype: float64"
      ]
     },
     "execution_count": 15,
     "metadata": {},
     "output_type": "execute_result"
    }
   ],
   "source": [
    "nonresident['Parent Education Level'].value_counts(normalize=True, dropna=False)"
   ]
  },
  {
   "cell_type": "code",
   "execution_count": 16,
   "id": "0ae7f12f-3c3a-4a40-ac53-dcc2b87b69c9",
   "metadata": {},
   "outputs": [],
   "source": [
    "nonresident['Parent Education Level'] = reducing_answers(nonresident, 'Parent Education Level', reduce_level=0.15)\n",
    "nonresident['Parent Education Level'].fillna('Less Than Bachelors', inplace=True)\n",
    "\n",
    "nonresident.drop(columns='First Generation', inplace=True)"
   ]
  },
  {
   "cell_type": "code",
   "execution_count": 17,
   "id": "56fa90ea-0520-4c63-9fbe-b8f27ba7a40a",
   "metadata": {},
   "outputs": [],
   "source": [
    "nonresident['Hispanic'].replace({'Yes' : 1, 'No' : 0}, inplace=True)"
   ]
  },
  {
   "cell_type": "code",
   "execution_count": 18,
   "id": "23d7feb5-5a0c-4462-8812-525a60948df3",
   "metadata": {},
   "outputs": [],
   "source": [
    "nonresident['Campus Tour'].replace({'Yes' : 1, 'No' : 0}, inplace=True)"
   ]
  },
  {
   "cell_type": "code",
   "execution_count": 19,
   "id": "922b3c67-70de-4541-bd46-890dc3da71b9",
   "metadata": {},
   "outputs": [],
   "source": [
    "nonresident['Attended Virtual Event'].replace({'Yes' : 1, 'No' : 0}, inplace=True)"
   ]
  },
  {
   "cell_type": "code",
   "execution_count": 20,
   "id": "f08f6928-de02-45e8-9d8b-6fb9d7bc565a",
   "metadata": {},
   "outputs": [],
   "source": [
    "nonresident['Legal Sex'].replace({'Female' : 1, 'Male' : 0}, inplace=True)\n",
    "nonresident.rename(columns={'Legal Sex' : 'Female'}, inplace=True)"
   ]
  },
  {
   "cell_type": "code",
   "execution_count": 21,
   "id": "fab24b4c-857e-4157-807d-dc92206b6e15",
   "metadata": {},
   "outputs": [],
   "source": [
    "nonresident['concurrent_gpa_x_credits'] = nonresident.apply((lambda x: x['Concurrent Enrollment GPA'] * x['Concurrent Enrollment Credits']), axis=1)\n",
    "nonresident['concurrent_gpa_x_credits'].fillna(0, inplace=True)\n",
    "nonresident['ln_concurrent_gpa_x_credits'] = nonresident['concurrent_gpa_x_credits'].apply(lambda x: math.log(x + 1))\n",
    "\n",
    "nonresident.drop(columns=['Concurrent Enrollment GPA', \n",
    "                          'Concurrent Enrollment Credits', \n",
    "                          'concurrent_gpa_x_credits'], \n",
    "                inplace=True)"
   ]
  },
  {
   "cell_type": "code",
   "execution_count": 22,
   "id": "37a5ad5e-f4a5-4744-b5fc-643ee5cafccd",
   "metadata": {},
   "outputs": [],
   "source": [
    "nonresident['fa21_failed_cred'] = nonresident.apply((lambda x: x['Fall 2021 Attempted Credits'] - x['Fall 2021 Credits']), axis=1)\n",
    "\n",
    "nonresident.drop(columns='Fall 2021 Attempted Credits', inplace=True)"
   ]
  },
  {
   "cell_type": "code",
   "execution_count": 23,
   "id": "6b1d2dee-48d5-4b2b-9986-41697f8c322d",
   "metadata": {},
   "outputs": [],
   "source": [
    "nonresident['hs_fa21_gpa_delta'] = nonresident['Fall 2021 GPA'] - nonresident['HS GPA']\n",
    "nonresident['hs_fa21_gpa_delta'].fillna(0, inplace=True)"
   ]
  },
  {
   "cell_type": "code",
   "execution_count": 24,
   "id": "fb704de4-6be6-4211-ba1f-b56070433b65",
   "metadata": {},
   "outputs": [],
   "source": [
    "nonresident['Retained from 1st to 2nd year'].replace({'Yes' : 1, 'No' : 0}, inplace=True)\n",
    "nonresident['Retained from Fall to Spring?'].replace({'Yes' : 1, 'No' : 0}, inplace=True)"
   ]
  },
  {
   "cell_type": "markdown",
   "id": "d079214f-7116-4341-a195-d46869f8bf04",
   "metadata": {
    "tags": []
   },
   "source": [
    "### Distance Transformation\n",
    "Transforming `City` and `State` to a longitude and latitude then calculating a geodesic distance in miles to Boise, ID.  \n",
    "\n",
    "Creates variables `away_from_home` and the natural log transformation: `ln_away_from_home`.\n",
    "___"
   ]
  },
  {
   "cell_type": "code",
   "execution_count": 25,
   "id": "c7636119-4208-4f0a-a417-89a839d0c75b",
   "metadata": {
    "tags": []
   },
   "outputs": [],
   "source": [
    "# Address for distance from home\n",
    "nonresident['Address'] = nonresident['City'] + ', ' + nonresident['State']"
   ]
  },
  {
   "cell_type": "code",
   "execution_count": 26,
   "id": "ba92e829-4954-41df-8a1c-5844da6331bd",
   "metadata": {
    "tags": []
   },
   "outputs": [],
   "source": [
    "from geopy.geocoders import Nominatim\n",
    "\n",
    "def get_latlong(address):\n",
    "    \"\"\"Return longitude and latitude at address\"\"\"\n",
    "    \n",
    "    geolocator = Nominatim(user_agent='blincolm')\n",
    "    \n",
    "    try:\n",
    "        location = geolocator.geocode(address, timeout=None)\n",
    "        latitude = location.latitude\n",
    "        longitude = location.longitude\n",
    "        result = latitude, longitude\n",
    "        \n",
    "    except AttributeError:\n",
    "        result = np.nan\n",
    "    \n",
    "    return result"
   ]
  },
  {
   "cell_type": "code",
   "execution_count": 27,
   "id": "c2767cd6-8f4e-45db-82db-06f7737ab3ef",
   "metadata": {
    "tags": []
   },
   "outputs": [],
   "source": [
    "from geopy.distance import geodesic\n",
    "\n",
    "boise_latlong = get_latlong('Boise, ID')\n",
    "\n",
    "def distance_from_boise(address):\n",
    "    \"\"\"Returns distance in miles from City, ST\"\"\"\n",
    "    \n",
    "    try:\n",
    "        address_latlong = get_latlong(address)\n",
    "        distance = geodesic(boise_latlong, address_latlong).miles\n",
    "        result = distance\n",
    "    \n",
    "    except ValueError:\n",
    "        result = np.nan\n",
    "\n",
    "    return result"
   ]
  },
  {
   "cell_type": "code",
   "execution_count": 28,
   "id": "3421b525-f1b1-4e9f-bd6b-4c3f1b5a10e9",
   "metadata": {
    "tags": []
   },
   "outputs": [
    {
     "name": "stdout",
     "output_type": "stream",
     "text": [
      "Wall time: 4min 28s\n"
     ]
    }
   ],
   "source": [
    "%%time\n",
    "\n",
    "addresses = set(nonresident['Address'])\n",
    "\n",
    "distance_dict = {address: distance_from_boise(address) for address in addresses}"
   ]
  },
  {
   "cell_type": "code",
   "execution_count": 29,
   "id": "9e5dae7c-cce0-475c-b210-bb034e239bf4",
   "metadata": {
    "tags": []
   },
   "outputs": [],
   "source": [
    "dist_dict = {key: val for key, val in distance_dict.items() if not pd.isna(key)}"
   ]
  },
  {
   "cell_type": "code",
   "execution_count": 30,
   "id": "95e79981-4b9c-48c6-a40e-ad623b2ff3db",
   "metadata": {
    "tags": []
   },
   "outputs": [],
   "source": [
    "nonresident['away_from_home'] = nonresident['Address'].map(dist_dict)\n",
    "\n",
    "nonresident['ln_away_from_home'] = nonresident['away_from_home'].apply(lambda x: math.log(x + 1))"
   ]
  },
  {
   "cell_type": "code",
   "execution_count": 31,
   "id": "16637b5a-b9f8-4a03-8387-214d8a84bdbe",
   "metadata": {},
   "outputs": [],
   "source": [
    "nonresident.drop(columns=['City', \n",
    "                          'State', \n",
    "                          'Address', \n",
    "                          'away_from_home'], \n",
    "                 inplace=True)"
   ]
  },
  {
   "cell_type": "markdown",
   "id": "41c72a83-092a-41ed-a7a9-bd52e7e7d206",
   "metadata": {
    "tags": []
   },
   "source": [
    "### Reworking `Race` into Indicators\n",
    "The nonresident `Race` column was transformed into dummy variables and relevant data combined with `Hispanic` column.  \n",
    "\n",
    "Columns renamed for convenience.\n",
    "\n",
    "Race data on *White* or *Not Specified* dropped, as well as the original `Race` column after transformation.\n",
    "___"
   ]
  },
  {
   "cell_type": "code",
   "execution_count": 32,
   "id": "cbc34924-d86b-40c2-8fb3-9e7be2b879c3",
   "metadata": {},
   "outputs": [],
   "source": [
    "race_dummies = nonresident['Race'].str.get_dummies(sep=', ')\n",
    "\n",
    "# Combining data from 'Hispanic' and 'Race' columns\n",
    "race_dummies['Hispanic'] = nonresident['Hispanic'] | race_dummies['Hispanic']\n",
    "\n",
    "# Adding columns to original dataset.\n",
    "list_race_dummies = list(race_dummies.columns)\n",
    "nonresident[list_race_dummies] = race_dummies"
   ]
  },
  {
   "cell_type": "code",
   "execution_count": 33,
   "id": "15ab687c-a0b0-4b6b-9bdf-63c625121066",
   "metadata": {},
   "outputs": [],
   "source": [
    "# Renaming columns for easier manipulation.\n",
    "nonresident.rename(columns={'American Indian or Alaska Native': 'american_native', \n",
    "                            'Asian' : 'asian', \n",
    "                            'Black or African American' : 'black', \n",
    "                            'Hispanic' : 'hispanic', \n",
    "                            'Native Hawaiian or Other Pacific': 'hawaiian_pacific'}, \n",
    "                   inplace=True)\n",
    "\n",
    "# Dropping columns of 'White' and 'Not Specified' to avoid collinearity and reduce unnecessary indicators.\n",
    "nonresident.drop(columns=['Not Specified', 'White', 'Race'], inplace=True)"
   ]
  },
  {
   "cell_type": "markdown",
   "id": "4ef4b5e4-17ee-4515-b091-feae56559a99",
   "metadata": {
    "tags": []
   },
   "source": [
    "### Bulk Renaming of Columns\n",
    "___"
   ]
  },
  {
   "cell_type": "code",
   "execution_count": 34,
   "id": "3c5d4769-0d8c-4198-8dcd-a1975391ff5f",
   "metadata": {},
   "outputs": [],
   "source": [
    "nonresident.rename(columns={'Admit Type' : 'admit_type', \n",
    "                            'Application Fee Waived' : 'app_fee_waived', \n",
    "                            'HS GPA' : 'hs_gpa', \n",
    "                            'College' : 'college', \n",
    "                            'Scholarship Awarded' : 'scholarship',\n",
    "                           'Pell Grant' : 'pell_grant', \n",
    "                           'FAFSA on File flag' : 'fafsa', \n",
    "                           'Honors Possible' : 'honors',\n",
    "                           'Housing On Campus' : 'on_campus',\n",
    "                           'Parent Education Level' : 'parent_ed',\n",
    "                           'Hispanic' : 'hispanic', \n",
    "                           'Campus Tour' : 'tour',\n",
    "                           'Attended Virtual Event' : 'vr_event',\n",
    "                           'Female' : 'female', \n",
    "                           'Fall 2021 Credits' : 'fa21_cred',\n",
    "                           'Fall 2021 GPA' : 'fa21_gpa',\n",
    "                           'Retained from Fall to Spring?' : 'retained_f_sp',\n",
    "                           'Retained from 1st to 2nd year' : 'retained_1_2'}, \n",
    "                   inplace=True)"
   ]
  },
  {
   "cell_type": "markdown",
   "id": "9a86d528-f9b1-4599-8407-f1c943f8de13",
   "metadata": {},
   "source": [
    "### Other\n",
    "___"
   ]
  },
  {
   "cell_type": "code",
   "execution_count": 69,
   "id": "0e8cc9f3-50ff-4bbf-a371-622aa60c55a8",
   "metadata": {},
   "outputs": [
    {
     "data": {
      "text/plain": [
       "Index(['admit_type', 'app_fee_waived', 'hs_gpa', 'college', 'scholarship',\n",
       "       'pell_grant', 'fafsa', 'honors', 'on_campus', 'parent_ed', 'hispanic',\n",
       "       'tour', 'vr_event', 'female', 'fa21_cred', 'fa21_gpa', 'retained_f_sp',\n",
       "       'retained_1_2', 'days_to_decision', 'days_to_ite', 'days_to_enroll',\n",
       "       'days_app_submitted_early', 'ln_concurrent_gpa_x_credits',\n",
       "       'fa21_failed_cred', 'hs_fa21_gpa_delta', 'ln_away_from_home',\n",
       "       'american_native', 'asian', 'black', 'hawaiian_pacific'],\n",
       "      dtype='object')"
      ]
     },
     "execution_count": 69,
     "metadata": {},
     "output_type": "execute_result"
    }
   ],
   "source": [
    "nonresident.columns"
   ]
  },
  {
   "cell_type": "code",
   "execution_count": 75,
   "id": "5a2e01d3-fc29-430b-9ac3-0c887b1ef6ef",
   "metadata": {},
   "outputs": [
    {
     "data": {
      "text/plain": [
       "<AxesSubplot:>"
      ]
     },
     "execution_count": 75,
     "metadata": {},
     "output_type": "execute_result"
    },
    {
     "data": {
      "image/png": "[encoded data removed]",
      "text/plain": [
       "<Figure size 640x480 with 1 Axes>"
      ]
     },
     "metadata": {},
     "output_type": "display_data"
    }
   ],
   "source": [
    "nonresident['fa21_gpa'].apply(lambda x: x ** 2).hist(bins=20)"
   ]
  },
  {
   "cell_type": "code",
   "execution_count": 71,
   "id": "6fd25ca1-ddd9-4dd0-be2c-aa06d81c1c19",
   "metadata": {},
   "outputs": [
    {
     "ename": "ValueError",
     "evalue": "Data must be positive.",
     "output_type": "error",
     "traceback": [
      "\u001b[1;31m---------------------------------------------------------------------------\u001b[0m",
      "\u001b[1;31mValueError\u001b[0m                                Traceback (most recent call last)",
      "\u001b[1;32m~\\AppData\\Local\\Temp\\ipykernel_13812\\340888256.py\u001b[0m in \u001b[0;36m<module>\u001b[1;34m\u001b[0m\n\u001b[0;32m      2\u001b[0m \u001b[1;33m\u001b[0m\u001b[0m\n\u001b[0;32m      3\u001b[0m \u001b[1;31m# Apply Box-Cox transformation\u001b[0m\u001b[1;33m\u001b[0m\u001b[1;33m\u001b[0m\u001b[0m\n\u001b[1;32m----> 4\u001b[1;33m \u001b[0mtransformed_data\u001b[0m\u001b[1;33m,\u001b[0m \u001b[0mlambda_value\u001b[0m \u001b[1;33m=\u001b[0m \u001b[0mboxcox\u001b[0m\u001b[1;33m(\u001b[0m\u001b[0mnonresident\u001b[0m\u001b[1;33m[\u001b[0m\u001b[1;34m'fa21_cred'\u001b[0m\u001b[1;33m]\u001b[0m\u001b[1;33m)\u001b[0m\u001b[1;33m\u001b[0m\u001b[1;33m\u001b[0m\u001b[0m\n\u001b[0m\u001b[0;32m      5\u001b[0m \u001b[0mdf\u001b[0m\u001b[1;33m[\u001b[0m\u001b[1;34m'Transformed'\u001b[0m\u001b[1;33m]\u001b[0m \u001b[1;33m=\u001b[0m \u001b[0mtransformed_data\u001b[0m\u001b[1;33m\u001b[0m\u001b[1;33m\u001b[0m\u001b[0m\n",
      "\u001b[1;32m~\\anaconda3\\lib\\site-packages\\scipy\\stats\\_morestats.py\u001b[0m in \u001b[0;36mboxcox\u001b[1;34m(x, lmbda, alpha, optimizer)\u001b[0m\n\u001b[0;32m   1100\u001b[0m \u001b[1;33m\u001b[0m\u001b[0m\n\u001b[0;32m   1101\u001b[0m     \u001b[1;32mif\u001b[0m \u001b[0mnp\u001b[0m\u001b[1;33m.\u001b[0m\u001b[0many\u001b[0m\u001b[1;33m(\u001b[0m\u001b[0mx\u001b[0m \u001b[1;33m<=\u001b[0m \u001b[1;36m0\u001b[0m\u001b[1;33m)\u001b[0m\u001b[1;33m:\u001b[0m\u001b[1;33m\u001b[0m\u001b[1;33m\u001b[0m\u001b[0m\n\u001b[1;32m-> 1102\u001b[1;33m         \u001b[1;32mraise\u001b[0m \u001b[0mValueError\u001b[0m\u001b[1;33m(\u001b[0m\u001b[1;34m\"Data must be positive.\"\u001b[0m\u001b[1;33m)\u001b[0m\u001b[1;33m\u001b[0m\u001b[1;33m\u001b[0m\u001b[0m\n\u001b[0m\u001b[0;32m   1103\u001b[0m \u001b[1;33m\u001b[0m\u001b[0m\n\u001b[0;32m   1104\u001b[0m     \u001b[1;31m# If lmbda=None, find the lmbda that maximizes the log-likelihood function.\u001b[0m\u001b[1;33m\u001b[0m\u001b[1;33m\u001b[0m\u001b[0m\n",
      "\u001b[1;31mValueError\u001b[0m: Data must be positive."
     ]
    }
   ],
   "source": [
    "from scipy.stats import boxcox\n",
    "\n",
    "# Apply Box-Cox transformation\n",
    "transformed_data, lambda_value = boxcox(nonresident['fa21_cred'])\n",
    "df['Transformed'] = transformed_data"
   ]
  },
  {
   "cell_type": "code",
   "execution_count": null,
   "id": "2d900604-21ce-4f75-9400-666fcfefea3d",
   "metadata": {},
   "outputs": [],
   "source": [
    "nonresident.to_excel('transformed.xlsx', index=False)"
   ]
  },
  {
   "cell_type": "code",
   "execution_count": 68,
   "id": "67170633-e71f-4b9e-a322-de5ef8e59d44",
   "metadata": {},
   "outputs": [],
   "source": [
    "nonresident.drop(columns=[\n",
    "                          'Currently Enrolled'\n",
    "                         ], inplace=True)"
   ]
  },
  {
   "cell_type": "code",
   "execution_count": 66,
   "id": "49bfe3ed-0a29-4ab7-b3d0-ab7a900fcddc",
   "metadata": {},
   "outputs": [
    {
     "data": {
      "text/plain": [
       "(array([4.34998118e-01, 1.23911647e-01, 4.19628737e-02, 1.63259813e-02,\n",
       "        8.41808408e-03, 4.40036213e-03, 2.42338784e-03, 1.78565420e-03,\n",
       "        1.02037383e-03, 7.65280371e-04, 4.46413550e-04, 1.91320093e-04,\n",
       "        1.91320093e-04, 2.55093457e-04, 0.00000000e+00, 1.27546729e-04,\n",
       "        1.91320093e-04, 6.37733643e-05, 6.37733643e-05, 6.37733643e-05,\n",
       "        0.00000000e+00, 0.00000000e+00, 6.37733643e-05, 0.00000000e+00,\n",
       "        0.00000000e+00, 0.00000000e+00, 0.00000000e+00, 0.00000000e+00,\n",
       "        0.00000000e+00, 6.37733643e-05]),\n",
       " array([2.69279397e-02, 1.59498070e+00, 3.16303346e+00, 4.73108623e+00,\n",
       "        6.29913899e+00, 7.86719175e+00, 9.43524451e+00, 1.10032973e+01,\n",
       "        1.25713500e+01, 1.41394028e+01, 1.57074556e+01, 1.72755083e+01,\n",
       "        1.88435611e+01, 2.04116138e+01, 2.19796666e+01, 2.35477194e+01,\n",
       "        2.51157721e+01, 2.66838249e+01, 2.82518777e+01, 2.98199304e+01,\n",
       "        3.13879832e+01, 3.29560359e+01, 3.45240887e+01, 3.60921415e+01,\n",
       "        3.76601942e+01, 3.92282470e+01, 4.07962998e+01, 4.23643525e+01,\n",
       "        4.39324053e+01, 4.55004580e+01, 4.70685108e+01]),\n",
       " <BarContainer object of 30 artists>)"
      ]
     },
     "execution_count": 66,
     "metadata": {},
     "output_type": "execute_result"
    },
    {
     "data": {
      "image/png": "[encoded data removed]",
      "text/plain": [
       "<Figure size 640x480 with 1 Axes>"
      ]
     },
     "metadata": {},
     "output_type": "display_data"
    }
   ],
   "source": [
    "import matplotlib.pyplot as plt\n",
    "\n",
    "data = np.random.normal(0, 1, 10000)\n",
    "s_data = math.e ** data\n",
    "\n",
    "plt.hist(s_data, bins=30, density=True, alpha=0.5)"
   ]
  },
  {
   "cell_type": "code",
   "execution_count": null,
   "id": "ccef68ec-45c4-4d82-bc60-7189a9ce5ffa",
   "metadata": {},
   "outputs": [],
   "source": []
  }
 ],
 "metadata": {
  "kernelspec": {
   "display_name": "Python 3 (ipykernel)",
   "language": "python",
   "name": "python3"
  },
  "language_info": {
   "codemirror_mode": {
    "name": "ipython",
    "version": 3
   },
   "file_extension": ".py",
   "mimetype": "text/x-python",
   "name": "python",
   "nbconvert_exporter": "python",
   "pygments_lexer": "ipython3",
   "version": "3.9.13"
  }
 },
 "nbformat": 4,
 "nbformat_minor": 5
}
